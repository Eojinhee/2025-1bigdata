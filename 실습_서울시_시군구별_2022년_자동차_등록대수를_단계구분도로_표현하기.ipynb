{
  "nbformat": 4,
  "nbformat_minor": 0,
  "metadata": {
    "colab": {
      "provenance": []
    },
    "kernelspec": {
      "name": "python3",
      "display_name": "Python 3"
    },
    "language_info": {
      "name": "python"
    }
  },
  "cells": [
    {
      "cell_type": "markdown",
      "source": [
        "#서울시 시군구별 2022년 자동차 등록대수를 단계구분도로 표현하기\n",
        "* **공공데이터화일: 자동차_등록대수(2022년_서울).xlsx**\n",
        "* https://kosis.kr/statHtml/statHtml.do?orgId=101&tblId=DT_1YL20731&\n",
        "* 조회설정에서 서울시 시군구만 선택\n",
        "\n",
        "\n",
        "* **GeoJson화일: 서울시군구.geojson**\n",
        "* http://www.gisdeveloper.co.kr/?p=2332에서 시군구 SHP화일을 서울시 시군구만 GeoJson으로 변경\n"
      ],
      "metadata": {
        "id": "4wsG0d9OeqQA"
      }
    },
    {
      "cell_type": "markdown",
      "source": [
        "##1.데이터 업로드하기\n",
        "#####1)Drive Mount 실행후 로그인하고 임의의 새로운 폴더를 생성해주세요.\n",
        "#####2)colab 왼쪽에 파일을 클릭하여 생성한 폴더에 **[10주차 오프라인 실습자료]**폴더에 있는 **자동차_등록대수(2022년_서울).xlsx** 화일과 **서울시군구.geojson 파일**을 업로드해주세요."
      ],
      "metadata": {
        "id": "Ovu09Bl0g0Fk"
      }
    },
    {
      "cell_type": "code",
      "source": [
        "#드라이브 마운트\n",
        "from google.colab import drive\n",
        "drive.mount('/content/drive')"
      ],
      "metadata": {
        "id": "On4AlkHGQdIc"
      },
      "execution_count": null,
      "outputs": []
    },
    {
      "cell_type": "markdown",
      "source": [
        "##2.자동차 등록 데이터 읽고 확인하기"
      ],
      "metadata": {
        "id": "Yd7ArpSwhRTu"
      }
    },
    {
      "cell_type": "code",
      "source": [
        "#자동차_등록대수(2022년_서울).xlsx 화일을 읽고 상위 5개 데이터 확인하기\n",
        "#변수명 = pd.read_excel(‘파일경로명, header=[행번호])\n",
        "#header=[행번호]: 열이름으로 설정할 행번호 기술\n",
        "#변수명.head()\n",
        "\n",
        "import pandas as pd\n",
        "\n",
        "carData =\n"
      ],
      "metadata": {
        "id": "52d-y1jVQ51u"
      },
      "execution_count": null,
      "outputs": []
    },
    {
      "cell_type": "code",
      "source": [
        "##행열개수, 데이터 타입, 열의 개수 등 데이터 정보 확인하고 folium.Choropleth의 속성중 columns=[] 선택하기\n",
        "#변수명.info()\n"
      ],
      "metadata": {
        "id": "VT8CVkztRV9s"
      },
      "execution_count": null,
      "outputs": []
    },
    {
      "cell_type": "markdown",
      "source": [
        "##3.지도 데이터 읽고 확인하기"
      ],
      "metadata": {
        "id": "6xV2VkBlhwxA"
      }
    },
    {
      "cell_type": "markdown",
      "source": [
        "###1)GeoJson 파일 읽어오기"
      ],
      "metadata": {
        "id": "ggNf6NQGh1x2"
      }
    },
    {
      "cell_type": "code",
      "source": [
        "#json 라이브러리 선언하기\n",
        "#import json\n",
        "\n",
        "\n",
        "#GeoJson화일을 열고 데이터 읽어오기\n",
        "#변수명 = json.load((open('json파일경로명')))\n",
        "geoSeoul =\n",
        "geoSeoul"
      ],
      "metadata": {
        "id": "mio6lV1URYuk"
      },
      "execution_count": null,
      "outputs": []
    },
    {
      "cell_type": "markdown",
      "source": [
        "###2)GeoJson 파일에서 시군구 이름을 확인할 수 있는 키워드 확인하기"
      ],
      "metadata": {
        "id": "Fo1Qx6p6iTfi"
      }
    },
    {
      "cell_type": "code",
      "source": [
        "#변수명[''][0]['']\n",
        "\n"
      ],
      "metadata": {
        "id": "4mmM54k0SQku"
      },
      "execution_count": null,
      "outputs": []
    },
    {
      "cell_type": "markdown",
      "source": [
        "##4.지도 생성하기"
      ],
      "metadata": {
        "id": "uA6rT08Uinqg"
      }
    },
    {
      "cell_type": "code",
      "source": [
        "#지도를 생성하기 위한 folium 라이브러리 선언하기\n",
        "#import folium\n",
        "\n",
        "\n",
        "\n",
        "#folium.Map()을 사용하여 지도 생성하고 출력하기\n",
        "#변수명 = folium.Map(속성들)\n",
        "#location=[위도, 경도] : 지도의 중심 좌표를 [위도, 경도] 또는(위도, 경도)로 나타냄\n",
        "#zoom_start = 정수 : 지도를 처음 그릴때 확대 정도\n",
        "#zoom_control=True : zoom in/out 버튼 표시 여부(True/False)\n",
        "#control_scales=False : 스케일 컨트롤 버튼 표시 여부(True/False)\n",
        "#tiles=‘스타일’: 지도 스타일을 지정(openstreetmap,stamenterrain,cartodbpositron)\n",
        "map =\n",
        "map"
      ],
      "metadata": {
        "id": "qLEM50rcRohc"
      },
      "execution_count": null,
      "outputs": []
    },
    {
      "cell_type": "markdown",
      "source": [
        "##5.GeoJson을 지도에 추가하여 확인하기"
      ],
      "metadata": {
        "id": "MVa7C5pPi1Jc"
      }
    },
    {
      "cell_type": "code",
      "source": [
        "#folium.GeoJson(변수명).add_to(지도변수명)\n",
        "\n"
      ],
      "metadata": {
        "id": "GvK9rbbcSJ8V"
      },
      "execution_count": null,
      "outputs": []
    },
    {
      "cell_type": "markdown",
      "source": [
        "##6.단계구분도를 생성하기"
      ],
      "metadata": {
        "id": "4JJszqp0jFBJ"
      }
    },
    {
      "cell_type": "markdown",
      "source": [
        "###1)단계구분도를 생성하고 지도에 추가하기"
      ],
      "metadata": {
        "id": "QuXCNCdlj0CP"
      }
    },
    {
      "cell_type": "code",
      "source": [
        "#map의 반복 재실행을 최소화하기 위해 추가\n",
        "map = folium.Map(location=[37.4965,126.9572],   #숭실대학교 중심좌표\n",
        "                 zoom_start=11,                 #초기 확대 정도\n",
        "                 tiles='cartodbpositron')       #지도 스타일\n",
        "\n",
        "##########################################################\n",
        "'''\n",
        "folium.Choropleth(속성들).add_to(지도변수명)\n",
        "  geo_data =“지도 데이터”: *.geojson, *.json의 지도 데이터\n",
        "  data =“시각화 하고자 하는 데이터”: DataFrame 형식의 데이터\n",
        "  columns = (열이름1, 열이름2)\n",
        "      열이름1 : 지도 데이터와 매핑할 문자열 데이터의 열이름으로 지도 데이터와 동일한 값이 있는 열이름\n",
        "      열이름2 : 색상으로 나누어질 수치 데이터의 열이름으로 시각화 하고자 하는 열이름\n",
        "  key_on =“매핑할 geo데이터”: geojson 데이터에서 시각화하고자 하는 데이터와 동일한 값\n",
        "  fill_color =“색상”: 시각화에 사용될 색상\n",
        "  fill_opacity = 실수 : 채워진 색상의 투명도(0~1사이의 실수)\n",
        "  line_weight = 정수 : 경계선 두께\n",
        "  line_opacity = 실수 : 경계선 투명도 (0~1사이의 실수)\n",
        "  nan_fill_color = “색상”: 통계수치가 없는 구역의 색상\n",
        "'''\n",
        "##########################################################\n",
        "\n"
      ],
      "metadata": {
        "id": "1gLWe4QKSaim"
      },
      "execution_count": null,
      "outputs": []
    },
    {
      "cell_type": "markdown",
      "source": [
        "###2)문제 확인하기\n",
        "*   columns=['행정구역별', '자동차등록대수(대)']와 key_on = 'feature.properties.SIG_KOR_NM',에 일치하는 데이터가 없음으로 모든 색상이 동일한 색상(nan_fill_color)로 표시됨\n",
        "\n"
      ],
      "metadata": {
        "id": "dqdSGeNTj5M_"
      }
    },
    {
      "cell_type": "code",
      "source": [
        "#carData['행정구역별']의 첫번째 인덱스 데이터 확인하기\n",
        "#변수명['열이름'][index번호]\n"
      ],
      "metadata": {
        "id": "tlX6_ucwVBJH"
      },
      "execution_count": null,
      "outputs": []
    },
    {
      "cell_type": "markdown",
      "source": [
        "###3)문제 해결하기"
      ],
      "metadata": {
        "id": "C6N_klvTlIJq"
      }
    },
    {
      "cell_type": "code",
      "source": [
        "#불필요한 일부문자열 삭제하기\n",
        "#df[‘열이름’] = df[‘열이름’].str.replace(‘찾을 문자열’, ‘변경할 문자열’)\n",
        "#   열이름: 부분 변경할 문자열이 있는 열이름\n",
        "\n",
        "carData['행정구역별']=\n",
        "carData['행정구역별'][1]"
      ],
      "metadata": {
        "id": "WLepVrcgUJAD"
      },
      "execution_count": null,
      "outputs": []
    },
    {
      "cell_type": "markdown",
      "source": [
        "###4)단계구분도 재실행하고 추가 옵션 설정하기"
      ],
      "metadata": {
        "id": "riMNYwgslKSV"
      }
    },
    {
      "cell_type": "code",
      "source": [
        "#map의 반복 재실행을 최소화하기 위해 추가\n",
        "map = folium.Map(location=[37.4965,126.9572],   #숭실대학교 중심좌표\n",
        "                 zoom_start=11,                 #초기 확대 정도\n",
        "                 tiles='cartodbpositron')       #지도 스타일\n",
        "\n"
      ],
      "metadata": {
        "id": "dZQ3zhQcVbms"
      },
      "execution_count": null,
      "outputs": []
    },
    {
      "cell_type": "code",
      "source": [],
      "metadata": {
        "id": "dQwGOQUReIqq"
      },
      "execution_count": null,
      "outputs": []
    }
  ]
}